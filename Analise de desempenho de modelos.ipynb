{
  "nbformat": 4,
  "nbformat_minor": 0,
  "metadata": {
    "colab": {
      "provenance": [],
      "toc_visible": true,
      "authorship_tag": "ABX9TyOrhYms7f8Rak1mDR24DSoi",
      "include_colab_link": true
    },
    "kernelspec": {
      "name": "python3",
      "display_name": "Python 3"
    },
    "language_info": {
      "name": "python"
    }
  },
  "cells": [
    {
      "cell_type": "markdown",
      "metadata": {
        "id": "view-in-github",
        "colab_type": "text"
      },
      "source": [
        "<a href=\"https://colab.research.google.com/github/paulopatto/ia_scripts/blob/main/Analise%20de%20desempenho%20de%20modelos.ipynb\" target=\"_parent\"><img src=\"https://colab.research.google.com/assets/colab-badge.svg\" alt=\"Open In Colab\"/></a>"
      ]
    },
    {
      "cell_type": "code",
      "execution_count": null,
      "metadata": {
        "id": "1c7T44_ERG6r"
      },
      "outputs": [],
      "source": [
        "# Importando bibliotecas\n",
        "import numpy as np\n",
        "import matplotlib.pyplot as plt\n",
        "from sklearn.linear_model import LinearRegression\n",
        "from sklearn.model_selection import train_test_split, cross_val_score\n",
        "from sklearn.metrics import mean_absolute_error, mean_squared_error, r2_score\n",
        "\n",
        "# Criando conjuntos de dados simulados\n",
        "np.random.seed(42)\n",
        "X = 2.5 * np.random.randn(100, 1) + 25  # Tamanho do imóvel\n",
        "y = 500 + (X * 20) + np.random.randn(100, 1) * 10  # Preço do imóvel\n",
        "\n",
        "# Definindo features e labels\n",
        "features = X\n",
        "labels = y\n",
        "\n",
        "# Dividindo os dados em treino e teste\n",
        "X_train, X_test, y_train, y_test = train_test_split(features, labels, test_size=0.2, random_state=42)\n",
        "\n",
        "# Criando e treinando o modelo\n",
        "model = LinearRegression()\n",
        "model.fit(X_train, y_train)\n",
        "\n",
        "#Modelo de regressão linear\n",
        "# Y = A X + B\n",
        "# Y -> Variável de saída\n",
        "# X -> Tamanho do imóvel\n",
        "# A e B são coeficientes\n",
        "\n",
        "# Coeficientes da regressão\n",
        "print(f\"Coeficiente angular (b1): {model.coef_[0][0]:.2f}\")\n",
        "print(f\"Intercepto (b0): {model.intercept_[0]:.2f}\")\n",
        "\n",
        "# Predições nos dados de teste\n",
        "y_pred = model.predict(X_test)\n",
        "\n",
        "# Indicadores da Avaliação do modelo no conjunto de teste\n",
        "#R² ajuste dos dados ao modelo\n",
        "r2 = r2_score(y_test, y_pred)\n",
        "#MAE (Erro Médio Absoluto)\n",
        "mae = mean_absolute_error(y_test, y_pred)\n",
        "#RMSE (Raiz do Erro Quadrático Médio)\n",
        "rmse = np.sqrt(mean_squared_error(y_test, y_pred))\n",
        "\n",
        "print(f\"\\nMétricas de avaliação:\")\n",
        "print(f\"R² no teste: {r2:.2f}\")\n",
        "print(f\"Erro Médio Absoluto (MAE): {mae:.2f}\")\n",
        "print(f\"Raiz do Erro Quadrático Médio (RMSE): {rmse:.2f}\")\n",
        "\n",
        "# Avaliação cruzada\n",
        "cv_scores = cross_val_score(model, features, labels, cv=5, scoring='r2')\n",
        "print(f\"\\nMédia dos scores de validação cruzada: {cv_scores.mean():.2f}\")\n",
        "\n",
        "# Gráfico da reta de regressão\n",
        "plt.figure(figsize=(8, 6))\n",
        "plt.scatter(X_test, y_test, color='blue', label='Dados reais')\n",
        "plt.plot(X_test, y_pred, color='red', linewidth=2, label='Regressão Linear')\n",
        "plt.xlabel(\"Tamanho do imóvel\")\n",
        "plt.ylabel(\"Preço do imóvel\")\n",
        "plt.title(\"Regressão Linear: Preço x Tamanho do Imóvel\")\n",
        "plt.legend()\n",
        "plt.show()"
      ]
    }
  ]
}